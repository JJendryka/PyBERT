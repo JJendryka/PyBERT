{
 "cells": [
  {
   "cell_type": "markdown",
   "id": "507b895c",
   "metadata": {},
   "source": [
    "# PyBERT as Library\n",
    "\n",
    "This Jupyter notebook provides an example of using the functionality of the PyBERT Python package, not as a stand alone GUI application, but rather as a library, importing into a higher level Python script only that subset of PyBERT functionality actually required.\n",
    "\n",
    "Original author: David Banas <capn.freako@gmail.com>  \n",
    "Original date:   June 28, 2021\n",
    "\n",
    "Copyright &copy; 2021 David Banas; all rights reserved World wide."
   ]
  },
  {
   "cell_type": "markdown",
   "id": "36f5dac2",
   "metadata": {
    "toc": true
   },
   "source": [
    "<h1>Table of Contents<span class=\"tocSkip\"></span></h1>\n",
    "<div class=\"toc\"><ul class=\"toc-item\"><li><span><a href=\"#Introduction\" data-toc-modified-id=\"Introduction-1\"><span class=\"toc-item-num\">1&nbsp;&nbsp;</span>Introduction</a></span></li><li><span><a href=\"#Global-Defines\" data-toc-modified-id=\"Global-Defines-2\"><span class=\"toc-item-num\">2&nbsp;&nbsp;</span>Global Defines</a></span></li><li><span><a href=\"#Imports\" data-toc-modified-id=\"Imports-3\"><span class=\"toc-item-num\">3&nbsp;&nbsp;</span>Imports</a></span></li><li><span><a href=\"#PyBERT-Object\" data-toc-modified-id=\"PyBERT-Object-4\"><span class=\"toc-item-num\">4&nbsp;&nbsp;</span>PyBERT Object</a></span></li><li><span><a href=\"#Channel\" data-toc-modified-id=\"Channel-5\"><span class=\"toc-item-num\">5&nbsp;&nbsp;</span>Channel</a></span></li><li><span><a href=\"#Tx\" data-toc-modified-id=\"Tx-6\"><span class=\"toc-item-num\">6&nbsp;&nbsp;</span>Tx</a></span></li><li><span><a href=\"#Rx\" data-toc-modified-id=\"Rx-7\"><span class=\"toc-item-num\">7&nbsp;&nbsp;</span>Rx</a></span></li><li><span><a href=\"#Plotting\" data-toc-modified-id=\"Plotting-8\"><span class=\"toc-item-num\">8&nbsp;&nbsp;</span>Plotting</a></span></li></ul></div>"
   ]
  },
  {
   "cell_type": "markdown",
   "id": "db3cc3e6",
   "metadata": {},
   "source": [
    "## Introduction\n",
    "\n",
    "In the typical use case, [PyBERT](https://github.com/capn-freako/PyBERT/wiki) is run as a stand alone GUI application.\n",
    "However, it is also possible to draw from the _PyBERT_ package, as a _library_, importing only certain needed features into a larger _Python_ script.\n",
    "This [Jupyter](https://jupyter.org/) notebook provides an example of doing just that.\n",
    "\n",
    "Furthermore, this example shows how to import _PyBERT_ functionality into a higher level _Python_ script, when [IBIS-AMI models](https://www.eetimes.com/ami-models-what-why-and-how/#) are being used, in place of PyBERT's native Tx/Rx models."
   ]
  },
  {
   "cell_type": "markdown",
   "id": "af684b52",
   "metadata": {},
   "source": [
    "## Global Defines\n",
    "\n",
    "If you get lucky, you might get away w/ only editing this section."
   ]
  },
  {
   "cell_type": "code",
   "execution_count": 18,
   "id": "6203d36b",
   "metadata": {
    "ExecuteTime": {
     "end_time": "2021-06-29T00:35:09.909011Z",
     "start_time": "2021-06-29T00:35:09.906760Z"
    }
   },
   "outputs": [],
   "source": [
    "TX_IBIS_FILE = \"/Users/dbanas/Documents/Projects/ibisami/example/example_tx.ibs\""
   ]
  },
  {
   "cell_type": "markdown",
   "id": "c0eb043b",
   "metadata": {},
   "source": [
    "## Imports\n",
    "\n",
    "Here, we import everything we'll need.\n",
    "(I'm not sure why, but these notebooks tend to work more smoothly if you import everything first, before executing any other Python code.)\n"
   ]
  },
  {
   "cell_type": "code",
   "execution_count": 16,
   "id": "f99d9285",
   "metadata": {
    "ExecuteTime": {
     "end_time": "2021-06-29T00:34:39.779453Z",
     "start_time": "2021-06-29T00:34:39.770785Z"
    }
   },
   "outputs": [
    {
     "name": "stdout",
     "output_type": "stream",
     "text": [
      "Python executable: /Users/dbanas/opt/anaconda3/envs/pybert-dev/bin/python\n",
      "Python exec_prefix: /Users/dbanas/opt/anaconda3/envs/pybert-dev\n",
      "Python prefix: /Users/dbanas/opt/anaconda3/envs/pybert-dev\n",
      "Python import search path:\n",
      "['/Users/dbanas/Documents/Projects/PyBERT/misc',\n",
      " '/Users/dbanas/Documents/Projects/tvm/python',\n",
      " '/Users/dbanas/Documents/Projects/tvm/topi/python',\n",
      " '/Users/dbanas/Documents/Projects/tvm/nnvm/python',\n",
      " '/Users/dbanas/Documents/Projects/tvm/vta/python',\n",
      " '/Users/dbanas/Documents/Projects/PyBERT/misc',\n",
      " '/Users/dbanas/opt/anaconda3/envs/pybert-dev/lib/python38.zip',\n",
      " '/Users/dbanas/opt/anaconda3/envs/pybert-dev/lib/python3.8',\n",
      " '/Users/dbanas/opt/anaconda3/envs/pybert-dev/lib/python3.8/lib-dynload',\n",
      " '',\n",
      " '/Users/dbanas/opt/anaconda3/envs/pybert-dev/lib/python3.8/site-packages',\n",
      " '/Users/dbanas/Documents/Projects/PyBERT',\n",
      " '/Users/dbanas/opt/anaconda3/envs/pybert-dev/lib/python3.8/site-packages/IPython/extensions',\n",
      " '/Users/dbanas/.ipython']\n",
      "PyBERT version: 3.3.7\n",
      "\tat: /Users/dbanas/Documents/Projects/PyBERT/pybert/__init__.py\n"
     ]
    }
   ],
   "source": [
    "%matplotlib inline\n",
    "\n",
    "import sys\n",
    "import pprint\n",
    "\n",
    "#pprint.pp(sys.path)\n",
    "print(f\"Python executable: {sys.executable}\")\n",
    "print(f\"Python exec_prefix: {sys.exec_prefix}\")\n",
    "print(f\"Python prefix: {sys.prefix}\")\n",
    "print(\"Python import search path:\")\n",
    "pprint.pp(sys.path)\n",
    "\n",
    "import matplotlib.pyplot as plt\n",
    "import numpy             as np\n",
    "import scipy.signal      as sig\n",
    "\n",
    "import pybert            as pb\n",
    "from pybert.pybert       import PyBERT\n",
    "\n",
    "print(f\"PyBERT version: {pb.__version__}\")\n",
    "print(f\"\\tat: {pb.__file__}\")"
   ]
  },
  {
   "cell_type": "markdown",
   "id": "047e374a",
   "metadata": {},
   "source": [
    "## PyBERT Object\n",
    "\n",
    "Here, we instantiate and configure our _PyBERT_ object.\n"
   ]
  },
  {
   "cell_type": "code",
   "execution_count": 20,
   "id": "8d7adc72",
   "metadata": {
    "ExecuteTime": {
     "end_time": "2021-06-29T00:35:52.993725Z",
     "start_time": "2021-06-29T00:35:43.697288Z"
    }
   },
   "outputs": [],
   "source": [
    "myPyBERT = PyBERT(run_simulation=False)\n",
    "myPyBERT.bit_rate     = 56     # (Gbps)\n",
    "myPyBERT.l_ch         = 0.001  # (m) \"ideal\" channel\n",
    "myPyBERT.tx_use_ibis  = True\n",
    "myPyBERT.tx_use_ami   = True\n",
    "myPyBERT.tx_use_ts4   = True\n",
    "myPyBERT.tx_ibis_file = TX_IBIS_FILE\n",
    "myPyBERT._tx_ibis_file_changed(TX_IBIS_FILE)\n",
    "assert (myPyBERT.tx_ibis_valid)\n",
    "assert (myPyBERT.tx_dll_file)\n",
    "assert (myPyBERT.tx_ami_file)\n",
    "myPyBERT._tx_ami_file_changed(myPyBERT.tx_ami_file)\n",
    "assert (myPyBERT.tx_ami_valid)\n",
    "myPyBERT._tx_dll_file_changed(myPyBERT.tx_dll_file)\n",
    "assert (myPyBERT.tx_dll_valid)\n"
   ]
  },
  {
   "cell_type": "markdown",
   "id": "f35c1b0a",
   "metadata": {},
   "source": [
    "## Channel\n",
    "\n",
    "Here, we show how to import that subset of _PyBERT_ functionality required to perform _channel modeling_."
   ]
  },
  {
   "cell_type": "code",
   "execution_count": null,
   "id": "83c005cc",
   "metadata": {},
   "outputs": [],
   "source": []
  },
  {
   "cell_type": "markdown",
   "id": "bd37dd14",
   "metadata": {},
   "source": [
    "## Tx\n",
    "\n",
    "Here, we show how to import that subset of _PyBERT_ functionality required to perform _Tx modeling_."
   ]
  },
  {
   "cell_type": "markdown",
   "id": "63185e46",
   "metadata": {},
   "source": [
    "## Rx\n",
    "\n",
    "Here, we show how to import that subset of _PyBERT_ functionality required to perform _Rx modeling_."
   ]
  },
  {
   "cell_type": "markdown",
   "id": "011dd511",
   "metadata": {},
   "source": [
    "## Plotting\n",
    "\n",
    "Here, we show how to import that subset of _PyBERT_ functionality required to perform _waveform and data plotting_."
   ]
  },
  {
   "cell_type": "code",
   "execution_count": null,
   "id": "aaa824bf",
   "metadata": {},
   "outputs": [],
   "source": []
  }
 ],
 "metadata": {
  "kernelspec": {
   "display_name": "pybert-dev",
   "language": "python",
   "name": "pybert-dev"
  },
  "language_info": {
   "codemirror_mode": {
    "name": "ipython",
    "version": 3
   },
   "file_extension": ".py",
   "mimetype": "text/x-python",
   "name": "python",
   "nbconvert_exporter": "python",
   "pygments_lexer": "ipython3",
   "version": "3.8.5"
  },
  "toc": {
   "base_numbering": 1,
   "nav_menu": {},
   "number_sections": true,
   "sideBar": true,
   "skip_h1_title": true,
   "title_cell": "Table of Contents",
   "title_sidebar": "Contents",
   "toc_cell": true,
   "toc_position": {},
   "toc_section_display": true,
   "toc_window_display": true
  }
 },
 "nbformat": 4,
 "nbformat_minor": 5
}
